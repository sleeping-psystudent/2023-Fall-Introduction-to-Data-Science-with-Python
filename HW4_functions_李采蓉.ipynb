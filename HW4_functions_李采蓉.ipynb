{
 "cells": [
  {
   "cell_type": "markdown",
   "metadata": {},
   "source": [
    "# 作業四\n",
    "## 題目一（30%）\n",
    "\n",
    "請設計一個名為 `greetings()` 的函數，該函數接受一個名字（`name`）做為參數，並能夠根據指定時區（UTC+8，台北時間）的當前時間回傳適當的問候語。\n",
    "\n",
    "示範：\n",
    "\n",
    "```\n",
    "name = \"瑪卡巴卡\"\n",
    "greeting_message = greetings(name)\n",
    "print(greeting_message)\n",
    "```\n",
    "\n",
    "會印出的結果為：\n",
    "> 現在的時間: 2023-10-11 13:14:06<br>\n",
    "> 午安, 瑪卡巴卡!"
   ]
  },
  {
   "cell_type": "code",
   "execution_count": 6,
   "metadata": {},
   "outputs": [],
   "source": [
    "import datetime\n",
    "\n",
    "def greetings(name):\n",
    "    now_time=datetime.datetime.now(datetime.timezone(datetime.timedelta(hours=8)))\n",
    "    greeting=\"現在時間: \"+now_time.strftime(\"%Y-%m-%d %H:%M:%S\")+\"\\n\"\n",
    "\n",
    "    if 5<=now_time.hour<12: \n",
    "        greeting+=\"早安,\"\n",
    "    elif 12<=now_time.hour<18:\n",
    "        greeting+=\"午安,\"\n",
    "    else: greeting+=\"晚安,\"\n",
    "\n",
    "    greeting+=name\n",
    "\n",
    "    return greeting"
   ]
  },
  {
   "cell_type": "code",
   "execution_count": 7,
   "metadata": {},
   "outputs": [
    {
     "name": "stdout",
     "output_type": "stream",
     "text": [
      "現在時間: 2023-10-19 11:59:41\n",
      "早安,烏西蒂西\n"
     ]
    }
   ],
   "source": [
    "name = \"烏西蒂西\"\n",
    "greeting_message = greetings(name)\n",
    "print(greeting_message)"
   ]
  },
  {
   "cell_type": "markdown",
   "metadata": {},
   "source": [
    "## 題目二（30%）\n",
    "\n",
    "請設計一個名為 `count_chicken_rabbit()` 的函數 ，該函數接受兩個參數：頭的數量（`heads`）和腳的數量（`feet`）。根據這兩個參數，函數應計算並回傳雞和兔的數量。\n",
    "\n",
    "示範：\n",
    "\n",
    "```\n",
    "result = count_chicken_rabbit(1, 4)\n",
    "print(result)\n",
    "```\n",
    "\n",
    "會印出的結果為：\n",
    "> 0 隻雞, 1 隻兔"
   ]
  },
  {
   "cell_type": "code",
   "execution_count": 8,
   "metadata": {},
   "outputs": [],
   "source": [
    "def count_chicken_rabbit(heads, feet):\n",
    "    for chicken in range(heads+1):\n",
    "        rabbit=heads-chicken\n",
    "        if 2*chicken+4*rabbit==feet:\n",
    "            return str(chicken)+\"隻雞,\"+str(rabbit)+\"隻兔\"\n",
    "    return \"無解\""
   ]
  },
  {
   "cell_type": "code",
   "execution_count": 9,
   "metadata": {},
   "outputs": [
    {
     "name": "stdout",
     "output_type": "stream",
     "text": [
      "23隻雞,12隻兔\n",
      "無解\n",
      "無解\n"
     ]
    }
   ],
   "source": [
    "result1 = count_chicken_rabbit(35, 94)\n",
    "result2 = count_chicken_rabbit(17, 37)\n",
    "result3 = count_chicken_rabbit(1, 50)\n",
    "\n",
    "print(result1)\n",
    "print(result2)\n",
    "print(result3)"
   ]
  },
  {
   "cell_type": "markdown",
   "metadata": {},
   "source": [
    "## 題目三 (40%)\n",
    "\n",
    "請設計一個名為 `check_password()` 的函數，該函數接受一組密碼（`password`）作為參數，並會根據密碼的強度回傳相對應的訊息。\n",
    "\n",
    "示範：\n",
    "\n",
    "```\n",
    "password = \"pwrd\"\n",
    "strength = check_password(password)\n",
    "print(strength)\n",
    "```\n",
    "\n",
    "會印出的結果為：\n",
    "> 低強度：密碼長度應至少為 8 個字符, 密碼應包含至少一個大寫字母, 密碼應包含至少一個數字, 密碼應包含至少一個特殊字符 <br>\n",
    "> 不符合條件的數量：4"
   ]
  },
  {
   "cell_type": "code",
   "execution_count": 12,
   "metadata": {},
   "outputs": [],
   "source": [
    "import re"
   ]
  },
  {
   "cell_type": "code",
   "execution_count": 17,
   "metadata": {},
   "outputs": [],
   "source": [
    "def check_password(password):\n",
    "    min_length = 8\n",
    "    has_uppercase = bool(re.search(r'[A-Z]', password))\n",
    "    has_lowercase = bool(re.search(r'[a-z]', password))\n",
    "    has_digit = bool(re.search(r'\\d', password))\n",
    "    has_special_char = bool(re.search(r'[!@#$%^&*()_+{}\\[\\]:;<>,.?~\\\\/-]', password))\n",
    "\n",
    "    count=0\n",
    "    result=\"\"\n",
    "    if len(password)<min_length:\n",
    "        if count!=0: result+=','\n",
    "        result+=\"密碼長度應至少為 8 個字符\"\n",
    "        count+=1\n",
    "    if not has_uppercase:\n",
    "        if count!=0: result+=','\n",
    "        result+=\"密碼應包含至少一個大寫字母\"\n",
    "        count+=1\n",
    "    if not has_lowercase:\n",
    "        if count!=0: result+=','\n",
    "        result+=\"密碼應包含至少一個小寫字母\"\n",
    "        count+=1\n",
    "    if not has_digit:\n",
    "        if count!=0: result+=','\n",
    "        result+=\"密碼應包含至少一個數字\"\n",
    "        count+=1\n",
    "    if not has_special_char:\n",
    "        if count!=0: result+=','\n",
    "        result+=\"密碼應包含至少一個特殊字符\"\n",
    "        count+=1\n",
    "    \n",
    "    if count==0:\n",
    "        return \"高強度：密碼滿足所有條件\"\n",
    "    else:\n",
    "        return \"低強度：\"+result+\"\\n不符合條件的數量: \"+str(count)"
   ]
  },
  {
   "cell_type": "code",
   "execution_count": 18,
   "metadata": {},
   "outputs": [
    {
     "name": "stdout",
     "output_type": "stream",
     "text": [
      "高強度：密碼滿足所有條件\n",
      "低強度：密碼應包含至少一個大寫字母\n",
      "不符合條件的數量: 1\n"
     ]
    }
   ],
   "source": [
    "password1 = \"p@ssW0rd\"\n",
    "strength1 = check_password(password1)\n",
    "password2 = \"dspy112-1\"\n",
    "strength2 = check_password(password2)\n",
    "\n",
    "print(strength1)\n",
    "print(strength2)"
   ]
  },
  {
   "cell_type": "markdown",
   "metadata": {},
   "source": [
    "## 加分題 (10%)\n",
    "\n",
    "承題目三，你想到設定密碼時也應該要避免連續的數字和字母，於是你決定重新設計你的 `check_password()` 函數。\n",
    "\n",
    "示範：\n",
    "```\n",
    "password = \"123Hell0w@rld\"  \n",
    "strength = check_password(password)\n",
    "print(strength)\n",
    "```\n",
    "\n",
    "會印出的結果為：\n",
    "> 低強度：密碼不應包含連續字符 <br>\n",
    "> 不符合條件的數量：1"
   ]
  },
  {
   "cell_type": "code",
   "execution_count": 19,
   "metadata": {},
   "outputs": [],
   "source": [
    "def check_password(password):\n",
    "    min_length = 8\n",
    "    has_uppercase = bool(re.search(r'[A-Z]', password))\n",
    "    has_lowercase = bool(re.search(r'[a-z]', password))\n",
    "    has_digit = bool(re.search(r'\\d', password))\n",
    "    has_special_char = bool(re.search(r'[!@#$%^&*()_+{}\\[\\]:;<>,.?~\\\\/-]', password))\n",
    "\n",
    "    count=0\n",
    "    result=\"\"\n",
    "    if len(password)<min_length:\n",
    "        if count!=0: result+=','\n",
    "        result+=\"密碼長度應至少為 8 個字符\"\n",
    "        count+=1\n",
    "    if not has_uppercase:\n",
    "        if count!=0: result+=','\n",
    "        result+=\"密碼應包含至少一個大寫字母\"\n",
    "        count+=1\n",
    "    if not has_lowercase:\n",
    "        if count!=0: result+=','\n",
    "        result+=\"密碼應包含至少一個小寫字母\"\n",
    "        count+=1\n",
    "    if not has_digit:\n",
    "        if count!=0: result+=','\n",
    "        result+=\"密碼應包含至少一個數字\"\n",
    "        count+=1\n",
    "    if not has_special_char:\n",
    "        if count!=0: result+=','\n",
    "        result+=\"密碼應包含至少一個特殊字符\"\n",
    "        count+=1\n",
    "    if bool(re.search(r'\\d{2,}', password)) or bool(re.search(r'[a-zA-Z]{2,}', password)) or bool(re.search(r'[!@#$%^&*()_+{}\\[\\]:;<>,.?~\\\\/-]{2,}', password)):\n",
    "        if count!=0: result+=','\n",
    "        result+=\"密碼不應包含連續字符\"\n",
    "        count+=1\n",
    "    \n",
    "    if count==0:\n",
    "        return \"高強度：密碼滿足所有條件\"\n",
    "    else:\n",
    "        return \"低強度：\"+result+\"\\n不符合條件的數量: \"+str(count)"
   ]
  },
  {
   "cell_type": "code",
   "execution_count": 21,
   "metadata": {},
   "outputs": [
    {
     "name": "stdout",
     "output_type": "stream",
     "text": [
      "低強度：密碼應包含至少一個數字,密碼應包含至少一個特殊字符,密碼不應包含連續字符\n",
      "不符合條件的數量: 3\n"
     ]
    }
   ],
   "source": [
    "password = \"abckauKAti\"  \n",
    "strength = check_password(password)\n",
    "print(strength)"
   ]
  }
 ],
 "metadata": {
  "kernelspec": {
   "display_name": "Python 3",
   "language": "python",
   "name": "python3"
  },
  "language_info": {
   "codemirror_mode": {
    "name": "ipython",
    "version": 3
   },
   "file_extension": ".py",
   "mimetype": "text/x-python",
   "name": "python",
   "nbconvert_exporter": "python",
   "pygments_lexer": "ipython3",
   "version": "3.10.12"
  }
 },
 "nbformat": 4,
 "nbformat_minor": 2
}

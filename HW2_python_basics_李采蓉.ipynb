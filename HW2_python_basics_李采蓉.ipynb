{
 "cells": [
  {
   "cell_type": "markdown",
   "metadata": {},
   "source": [
    "# 作業二"
   ]
  },
  {
   "cell_type": "markdown",
   "metadata": {},
   "source": [
    "## 題目一 (30%)\n",
    "\n",
    "1. 請定義一個名為 `numbers` 的list，其中包含以下數值：10, 20, 30, 40, 50。\n",
    "2. 計算以下兩個數值：\n",
    "  - `numbers` 中所有數字的總和，並將結果指派給一個變數 `total`。<br>\n",
    "  - `numbers` 中所有數字的平均值，並將結果指派給一個變數 `average`。\n",
    "3. 建立一個新的list叫 `squared_numbers` ，其中包含 `numbers` 中每個數字的平方。\n",
    "4. 使用 `print` 將結果印出來：\n",
    "    ```\n",
    "    print(\"總和:\", total)\n",
    "    print(\"平均值:\", average)\n",
    "    print(\"平方數:\", squared_numbers)\n",
    "    ```"
   ]
  },
  {
   "cell_type": "code",
   "execution_count": 1,
   "metadata": {},
   "outputs": [
    {
     "name": "stdout",
     "output_type": "stream",
     "text": [
      "總和: 150\n",
      "平均值: 30.0\n",
      "平方數: [100, 400, 900, 1600, 2500]\n"
     ]
    }
   ],
   "source": [
    "# 1\n",
    "numbers=[10,20,30,40,50]\n",
    "# 2\n",
    "total=sum(numbers)\n",
    "average=total/len(numbers)\n",
    "# 3\n",
    "squared_numbers=[]\n",
    "for n in numbers:\n",
    "    squared_numbers.append(n**2)\n",
    "# 4\n",
    "print(\"總和:\", total)\n",
    "print(\"平均值:\", average)\n",
    "print(\"平方數:\", squared_numbers)"
   ]
  },
  {
   "cell_type": "markdown",
   "metadata": {},
   "source": [
    "## 題目二 (40%)\n",
    "\n",
    "以下為一個包含亞洲國家及其首都的字典，但其中有一些錯誤資訊：\n",
    "\n",
    "```\n",
    "asian_countries = {\n",
    "    'Taiwan': 'Taipei',\n",
    "    'Japan': 'Kyoto',\n",
    "    'South Korea': 'Seoul',\n",
    "    'India': 'New Delhi',\n",
    "    'Germany': 'Berlin'\n",
    "    }\n",
    "```\n",
    "1. 將 `asian_countries` 印出來：\n",
    "    ```\n",
    "    print('舊字典:', asian_countries)\n",
    "    ```\n",
    "2.  更新 `asian_countries`  ，並將更新後的字典印出來 ：\n",
    "    - 將Japan的首都更正為Tokyo\n",
    "    - 將Germany從字典中刪掉\n",
    "    - 將Vietnam及其首都Hanoi新增到字典中\n",
    "\n",
    "    ```\n",
    "    print('新字典:', asian_countries)\n",
    "    ```\n",
    "3. 將國家按照字母排序，並將排序後的結果指派給一個變數 `sorted_asian_countries` 。\n",
    "4. 將 `sorted_asian_countries` 中的每個key:value pair印出來。"
   ]
  },
  {
   "cell_type": "code",
   "execution_count": 2,
   "metadata": {},
   "outputs": [
    {
     "name": "stdout",
     "output_type": "stream",
     "text": [
      "舊字典: {'Taiwan': 'Taipei', 'Japan': 'Kyoto', 'South Korea': 'Seoul', 'India': 'New Delhi', 'Germany': 'Berlin'}\n",
      "新字典: {'Taiwan': 'Taipei', 'Japan': 'Tokyo', 'South Korea': 'Seoul', 'India': 'New Delhi', 'Vietnam': 'Hanoi'}\n",
      "排序後的字典:\n",
      "India: New Delhi\n",
      "Japan: Tokyo\n",
      "South Korea: Seoul\n",
      "Taiwan: Taipei\n",
      "Vietnam: Hanoi\n"
     ]
    }
   ],
   "source": [
    "# 1\n",
    "asian_countries = {\n",
    "    'Taiwan': 'Taipei',\n",
    "    'Japan': 'Kyoto',\n",
    "    'South Korea': 'Seoul',\n",
    "    'India': 'New Delhi',\n",
    "    'Germany': 'Berlin'\n",
    "    }\n",
    "print('舊字典:', asian_countries)\n",
    "# 2\n",
    "asian_countries['Japan']='Tokyo'\n",
    "del asian_countries['Germany']\n",
    "asian_countries['Vietnam']='Hanoi'\n",
    "print('新字典:', asian_countries)\n",
    "# 3\n",
    "sorted_asian_countries=sorted(asian_countries.items())\n",
    "# 4\n",
    "print('排序後的字典:')\n",
    "for key, value in sorted_asian_countries:\n",
    "    print(key+':',value)"
   ]
  },
  {
   "cell_type": "markdown",
   "metadata": {},
   "source": [
    "## 題目三 (30%)\n",
    "\n",
    "以下為一個包含不同資料型態的list：\n",
    "\n",
    "```\n",
    "mixed_list = [7, 2.6, \"3\", \"4.5\", \"five\", 18]\n",
    "```\n",
    "1. 請找出 `mixed_list` 中所有的整數，將結果儲存到一個list `int_list` 並印出來。\n",
    "2. 將 `int_list` 中的整數轉換為字串，將結果儲存到新的list `str_list` 並印出來。\n",
    "3. 將 `str_list` 中所有元素的**資料類型**分別印出來。"
   ]
  },
  {
   "cell_type": "code",
   "execution_count": 3,
   "metadata": {},
   "outputs": [
    {
     "name": "stdout",
     "output_type": "stream",
     "text": [
      "整數： [7, 18]\n",
      "字串： ['7', '18']\n",
      "資料型態：\n",
      "7 <class 'str'>\n",
      "18 <class 'str'>\n"
     ]
    }
   ],
   "source": [
    "mixed_list = [7, 2.6, \"3\", \"4.5\", \"five\", 18]\n",
    "# 1\n",
    "int_list=[]\n",
    "for n in mixed_list:\n",
    "    if(type(n)==int): int_list.append(n)\n",
    "print('整數：',int_list)\n",
    "# 2\n",
    "str_list=[]\n",
    "for n in int_list:\n",
    "    str_list.append(str(n))\n",
    "print('字串：',str_list)\n",
    "# 3\n",
    "print('資料型態：')\n",
    "for n in str_list:\n",
    "    print(n, type(n))"
   ]
  },
  {
   "cell_type": "markdown",
   "metadata": {},
   "source": [
    "## 加分題 (10%)\n",
    "\n",
    "以下為歌手魏如萱的歌曲《你啊你啊》其中一段歌詞（取自Google）：\n",
    "\n",
    "> 欸嗚欸嗚欸欸 嗚嗚嗚喔喔 咦耶咦耶欸 嗚嗚嗚喔喔 咦耶咦耶欸 嗚喔喔 喔 <br>\n",
    "> 欸嗚欸嗚欸欸 嗚嗚嗚喔喔 咦耶咦耶欸 嗚嗚嗚喔喔 咦耶嘿 嗚喔喔喔\n",
    "\n",
    "請計算這整段歌詞中**總共**有幾個詞彙類型（type）和詞彙數量（token）。用一句舉例：\n",
    "> 「欸嗚欸嗚欸欸」：這一句有2個type，6個token"
   ]
  },
  {
   "cell_type": "code",
   "execution_count": 4,
   "metadata": {},
   "outputs": [
    {
     "name": "stdout",
     "output_type": "stream",
     "text": [
      "6 types and 58 tokens\n"
     ]
    }
   ],
   "source": [
    "lyric=\"欸嗚欸嗚欸欸 嗚嗚嗚喔喔 咦耶咦耶欸 嗚嗚嗚喔喔 咦耶咦耶欸 嗚喔喔 喔 欸嗚欸嗚欸欸 嗚嗚嗚喔喔 咦耶咦耶欸 嗚嗚嗚喔喔 咦耶嘿 嗚喔喔喔\"\n",
    "data=list(lyric)\n",
    "data=[n for n in data if n!=' ']\n",
    "print(len(set(data)),'types and',len(data),'tokens')"
   ]
  }
 ],
 "metadata": {
  "kernelspec": {
   "display_name": "Python 3 (ipykernel)",
   "language": "python",
   "name": "python3"
  },
  "language_info": {
   "codemirror_mode": {
    "name": "ipython",
    "version": 3
   },
   "file_extension": ".py",
   "mimetype": "text/x-python",
   "name": "python",
   "nbconvert_exporter": "python",
   "pygments_lexer": "ipython3",
   "version": "3.10.12"
  }
 },
 "nbformat": 4,
 "nbformat_minor": 2
}

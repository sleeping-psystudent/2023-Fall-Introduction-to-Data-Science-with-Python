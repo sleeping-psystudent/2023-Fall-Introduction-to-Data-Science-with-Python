{
 "cells": [
  {
   "cell_type": "markdown",
   "metadata": {},
   "source": [
    "# 作業五\n",
    "## 題目一 (50%)\n",
    "\n",
    "這題會使用到鳶尾花資料集 （Iris dataset），這個資料集中包括含四種花卉屬性與三種花卉種類，分別是：\n",
    "- 屬性\n",
    "  - Sepal Length: 花萼長度 (cm)\n",
    "  - Sepal Width: 花萼寬度 (cm)\n",
    "  - Petal Length: 花瓣長度 (cm)\n",
    "  - Petal Width: 花瓣寬度 (cm)\n",
    "- 種類\n",
    "  - Setosa: 山鳶尾\n",
    "  - Versicolor: 變色鳶尾\n",
    "  - Virginica: 維吉尼亞鳶尾\n",
    "\n",
    "### 1. 讀取資料"
   ]
  },
  {
   "cell_type": "code",
   "execution_count": 5,
   "metadata": {},
   "outputs": [],
   "source": [
    "import pandas as pd"
   ]
  },
  {
   "cell_type": "code",
   "execution_count": 6,
   "metadata": {},
   "outputs": [
    {
     "data": {
      "text/html": [
       "<div>\n",
       "<style scoped>\n",
       "    .dataframe tbody tr th:only-of-type {\n",
       "        vertical-align: middle;\n",
       "    }\n",
       "\n",
       "    .dataframe tbody tr th {\n",
       "        vertical-align: top;\n",
       "    }\n",
       "\n",
       "    .dataframe thead th {\n",
       "        text-align: right;\n",
       "    }\n",
       "</style>\n",
       "<table border=\"1\" class=\"dataframe\">\n",
       "  <thead>\n",
       "    <tr style=\"text-align: right;\">\n",
       "      <th></th>\n",
       "      <th>Id</th>\n",
       "      <th>SepalLengthCm</th>\n",
       "      <th>SepalWidthCm</th>\n",
       "      <th>PetalLengthCm</th>\n",
       "      <th>PetalWidthCm</th>\n",
       "      <th>Species</th>\n",
       "    </tr>\n",
       "  </thead>\n",
       "  <tbody>\n",
       "    <tr>\n",
       "      <th>0</th>\n",
       "      <td>1</td>\n",
       "      <td>5.1</td>\n",
       "      <td>3.5</td>\n",
       "      <td>1.4</td>\n",
       "      <td>0.2</td>\n",
       "      <td>Iris-setosa</td>\n",
       "    </tr>\n",
       "    <tr>\n",
       "      <th>1</th>\n",
       "      <td>2</td>\n",
       "      <td>4.9</td>\n",
       "      <td>3.0</td>\n",
       "      <td>1.4</td>\n",
       "      <td>0.2</td>\n",
       "      <td>Iris-setosa</td>\n",
       "    </tr>\n",
       "    <tr>\n",
       "      <th>2</th>\n",
       "      <td>3</td>\n",
       "      <td>4.7</td>\n",
       "      <td>3.2</td>\n",
       "      <td>1.3</td>\n",
       "      <td>0.2</td>\n",
       "      <td>Iris-setosa</td>\n",
       "    </tr>\n",
       "    <tr>\n",
       "      <th>3</th>\n",
       "      <td>4</td>\n",
       "      <td>4.6</td>\n",
       "      <td>3.1</td>\n",
       "      <td>1.5</td>\n",
       "      <td>0.2</td>\n",
       "      <td>Iris-setosa</td>\n",
       "    </tr>\n",
       "    <tr>\n",
       "      <th>4</th>\n",
       "      <td>5</td>\n",
       "      <td>5.0</td>\n",
       "      <td>3.6</td>\n",
       "      <td>1.4</td>\n",
       "      <td>0.2</td>\n",
       "      <td>Iris-setosa</td>\n",
       "    </tr>\n",
       "  </tbody>\n",
       "</table>\n",
       "</div>"
      ],
      "text/plain": [
       "   Id  SepalLengthCm  SepalWidthCm  PetalLengthCm  PetalWidthCm      Species\n",
       "0   1            5.1           3.5            1.4           0.2  Iris-setosa\n",
       "1   2            4.9           3.0            1.4           0.2  Iris-setosa\n",
       "2   3            4.7           3.2            1.3           0.2  Iris-setosa\n",
       "3   4            4.6           3.1            1.5           0.2  Iris-setosa\n",
       "4   5            5.0           3.6            1.4           0.2  Iris-setosa"
      ]
     },
     "execution_count": 6,
     "metadata": {},
     "output_type": "execute_result"
    }
   ],
   "source": [
    "iris_df=pd.read_csv('./iris.csv', encoding='utf-8')\n",
    "iris_df.head()"
   ]
  },
  {
   "cell_type": "markdown",
   "metadata": {},
   "source": [
    "### 2. 前處理"
   ]
  },
  {
   "cell_type": "code",
   "execution_count": 7,
   "metadata": {},
   "outputs": [
    {
     "data": {
      "text/html": [
       "<div>\n",
       "<style scoped>\n",
       "    .dataframe tbody tr th:only-of-type {\n",
       "        vertical-align: middle;\n",
       "    }\n",
       "\n",
       "    .dataframe tbody tr th {\n",
       "        vertical-align: top;\n",
       "    }\n",
       "\n",
       "    .dataframe thead th {\n",
       "        text-align: right;\n",
       "    }\n",
       "</style>\n",
       "<table border=\"1\" class=\"dataframe\">\n",
       "  <thead>\n",
       "    <tr style=\"text-align: right;\">\n",
       "      <th></th>\n",
       "      <th>SepalLength_Cm</th>\n",
       "      <th>SepalWidth_Cm</th>\n",
       "      <th>PetalLength_Cm</th>\n",
       "      <th>PetalWidth_Cm</th>\n",
       "      <th>Species</th>\n",
       "    </tr>\n",
       "  </thead>\n",
       "  <tbody>\n",
       "    <tr>\n",
       "      <th>0</th>\n",
       "      <td>5.1</td>\n",
       "      <td>3.5</td>\n",
       "      <td>1.4</td>\n",
       "      <td>0.2</td>\n",
       "      <td>Iris-setosa</td>\n",
       "    </tr>\n",
       "    <tr>\n",
       "      <th>1</th>\n",
       "      <td>4.9</td>\n",
       "      <td>3.0</td>\n",
       "      <td>1.4</td>\n",
       "      <td>0.2</td>\n",
       "      <td>Iris-setosa</td>\n",
       "    </tr>\n",
       "    <tr>\n",
       "      <th>2</th>\n",
       "      <td>4.7</td>\n",
       "      <td>3.2</td>\n",
       "      <td>1.3</td>\n",
       "      <td>0.2</td>\n",
       "      <td>Iris-setosa</td>\n",
       "    </tr>\n",
       "    <tr>\n",
       "      <th>3</th>\n",
       "      <td>4.6</td>\n",
       "      <td>3.1</td>\n",
       "      <td>1.5</td>\n",
       "      <td>0.2</td>\n",
       "      <td>Iris-setosa</td>\n",
       "    </tr>\n",
       "    <tr>\n",
       "      <th>4</th>\n",
       "      <td>5.0</td>\n",
       "      <td>3.6</td>\n",
       "      <td>1.4</td>\n",
       "      <td>0.2</td>\n",
       "      <td>Iris-setosa</td>\n",
       "    </tr>\n",
       "  </tbody>\n",
       "</table>\n",
       "</div>"
      ],
      "text/plain": [
       "   SepalLength_Cm  SepalWidth_Cm  PetalLength_Cm  PetalWidth_Cm      Species\n",
       "0             5.1            3.5             1.4            0.2  Iris-setosa\n",
       "1             4.9            3.0             1.4            0.2  Iris-setosa\n",
       "2             4.7            3.2             1.3            0.2  Iris-setosa\n",
       "3             4.6            3.1             1.5            0.2  Iris-setosa\n",
       "4             5.0            3.6             1.4            0.2  Iris-setosa"
      ]
     },
     "execution_count": 7,
     "metadata": {},
     "output_type": "execute_result"
    }
   ],
   "source": [
    "# 移除缺失值，並重新編排\n",
    "iris_df=iris_df.dropna()\n",
    "iris_df=iris_df.reset_index(drop=True)\n",
    "\n",
    "# 刪除名為'Id'的欄位\n",
    "iris_df=iris_df.drop(\"Id\", axis=1)\n",
    "\n",
    "# 剩餘欄位重新命名\n",
    "iris_df=iris_df.rename(columns={\"SepalLengthCm\":\"SepalLength_Cm\", \"SepalWidthCm\":\"SepalWidth_Cm\", \"PetalLengthCm\":\"PetalLength_Cm\", \"PetalWidthCm\":\"PetalWidth_Cm\"})\n",
    "\n",
    "# 更新後的結果\n",
    "iris_df.head()"
   ]
  },
  {
   "cell_type": "markdown",
   "metadata": {},
   "source": [
    "### 3. 新增欄位"
   ]
  },
  {
   "cell_type": "code",
   "execution_count": 8,
   "metadata": {},
   "outputs": [
    {
     "data": {
      "text/html": [
       "<div>\n",
       "<style scoped>\n",
       "    .dataframe tbody tr th:only-of-type {\n",
       "        vertical-align: middle;\n",
       "    }\n",
       "\n",
       "    .dataframe tbody tr th {\n",
       "        vertical-align: top;\n",
       "    }\n",
       "\n",
       "    .dataframe thead th {\n",
       "        text-align: right;\n",
       "    }\n",
       "</style>\n",
       "<table border=\"1\" class=\"dataframe\">\n",
       "  <thead>\n",
       "    <tr style=\"text-align: right;\">\n",
       "      <th></th>\n",
       "      <th>SepalLength_Cm</th>\n",
       "      <th>SepalWidth_Cm</th>\n",
       "      <th>PetalLength_Cm</th>\n",
       "      <th>PetalWidth_Cm</th>\n",
       "      <th>Species</th>\n",
       "      <th>SepalRatio</th>\n",
       "      <th>PetalArea</th>\n",
       "    </tr>\n",
       "  </thead>\n",
       "  <tbody>\n",
       "    <tr>\n",
       "      <th>0</th>\n",
       "      <td>5.1</td>\n",
       "      <td>3.5</td>\n",
       "      <td>1.4</td>\n",
       "      <td>0.2</td>\n",
       "      <td>Iris-setosa</td>\n",
       "      <td>1.457143</td>\n",
       "      <td>0.28</td>\n",
       "    </tr>\n",
       "    <tr>\n",
       "      <th>1</th>\n",
       "      <td>4.9</td>\n",
       "      <td>3.0</td>\n",
       "      <td>1.4</td>\n",
       "      <td>0.2</td>\n",
       "      <td>Iris-setosa</td>\n",
       "      <td>1.633333</td>\n",
       "      <td>0.28</td>\n",
       "    </tr>\n",
       "    <tr>\n",
       "      <th>2</th>\n",
       "      <td>4.7</td>\n",
       "      <td>3.2</td>\n",
       "      <td>1.3</td>\n",
       "      <td>0.2</td>\n",
       "      <td>Iris-setosa</td>\n",
       "      <td>1.468750</td>\n",
       "      <td>0.26</td>\n",
       "    </tr>\n",
       "    <tr>\n",
       "      <th>3</th>\n",
       "      <td>4.6</td>\n",
       "      <td>3.1</td>\n",
       "      <td>1.5</td>\n",
       "      <td>0.2</td>\n",
       "      <td>Iris-setosa</td>\n",
       "      <td>1.483871</td>\n",
       "      <td>0.30</td>\n",
       "    </tr>\n",
       "    <tr>\n",
       "      <th>4</th>\n",
       "      <td>5.0</td>\n",
       "      <td>3.6</td>\n",
       "      <td>1.4</td>\n",
       "      <td>0.2</td>\n",
       "      <td>Iris-setosa</td>\n",
       "      <td>1.388889</td>\n",
       "      <td>0.28</td>\n",
       "    </tr>\n",
       "  </tbody>\n",
       "</table>\n",
       "</div>"
      ],
      "text/plain": [
       "   SepalLength_Cm  SepalWidth_Cm  PetalLength_Cm  PetalWidth_Cm      Species  \\\n",
       "0             5.1            3.5             1.4            0.2  Iris-setosa   \n",
       "1             4.9            3.0             1.4            0.2  Iris-setosa   \n",
       "2             4.7            3.2             1.3            0.2  Iris-setosa   \n",
       "3             4.6            3.1             1.5            0.2  Iris-setosa   \n",
       "4             5.0            3.6             1.4            0.2  Iris-setosa   \n",
       "\n",
       "   SepalRatio  PetalArea  \n",
       "0    1.457143       0.28  \n",
       "1    1.633333       0.28  \n",
       "2    1.468750       0.26  \n",
       "3    1.483871       0.30  \n",
       "4    1.388889       0.28  "
      ]
     },
     "execution_count": 8,
     "metadata": {},
     "output_type": "execute_result"
    }
   ],
   "source": [
    "# 計算'Sepal'的比率，存在'SepalRatio'\n",
    "iris_df['SepalRatio']=iris_df['SepalLength_Cm']/iris_df['SepalWidth_Cm']\n",
    "\n",
    "# 計算'Petal'的乘積，存在'PetalArea'\n",
    "iris_df['PetalArea']=iris_df['PetalLength_Cm']*iris_df['PetalWidth_Cm']\n",
    "\n",
    "# 更新後的結果\n",
    "iris_df.head()"
   ]
  },
  {
   "cell_type": "markdown",
   "metadata": {},
   "source": [
    "### 4. 資料索引"
   ]
  },
  {
   "cell_type": "code",
   "execution_count": 9,
   "metadata": {},
   "outputs": [
    {
     "name": "stdout",
     "output_type": "stream",
     "text": [
      "    SepalLength_Cm  SepalWidth_Cm  PetalLength_Cm  PetalWidth_Cm      Species  \\\n",
      "6              4.6            3.4             1.4            0.3  Iris-setosa   \n",
      "7              5.0            3.4             1.5            0.2  Iris-setosa   \n",
      "8              4.4            2.9             1.4            0.2  Iris-setosa   \n",
      "9              5.8            4.0             1.2            0.2  Iris-setosa   \n",
      "10             5.7            4.4             1.5            0.4  Iris-setosa   \n",
      "11             5.4            3.9             1.3            0.4  Iris-setosa   \n",
      "\n",
      "    SepalRatio  PetalArea  \n",
      "6     1.352941       0.42  \n",
      "7     1.470588       0.30  \n",
      "8     1.517241       0.28  \n",
      "9     1.450000       0.24  \n",
      "10    1.295455       0.60  \n",
      "11    1.384615       0.52  \n",
      "    SepalWidth_Cm  PetalWidth_Cm\n",
      "10            4.4            0.4\n",
      "11            3.9            0.4\n",
      "12            3.5            0.3\n",
      "13            3.8            0.3\n",
      "14            3.8            0.3\n",
      "15            3.4            0.2\n",
      "16            3.7            0.4\n",
      "17            3.6            0.2\n",
      "18            3.3            0.5\n",
      "19            3.4            0.2\n",
      "20            3.0            0.2\n"
     ]
    }
   ],
   "source": [
    "# 選取資料集中第6到11橫列以及所有直欄，存在subset_iloc中\n",
    "subset_iloc=iris_df.iloc[6:12, :]\n",
    "print(subset_iloc)\n",
    "\n",
    "# 選取資料集中標籤為10到20的橫列以及SepalWidth_Cm跟PetalWidth_Cm，存在subset_loc中\n",
    "subset_loc=iris_df.loc[10:20, ['SepalWidth_Cm', 'PetalWidth_Cm']]\n",
    "print(subset_loc)"
   ]
  },
  {
   "cell_type": "markdown",
   "metadata": {},
   "source": [
    "### 5. 資料篩選"
   ]
  },
  {
   "cell_type": "code",
   "execution_count": 10,
   "metadata": {},
   "outputs": [
    {
     "data": {
      "text/html": [
       "<div>\n",
       "<style scoped>\n",
       "    .dataframe tbody tr th:only-of-type {\n",
       "        vertical-align: middle;\n",
       "    }\n",
       "\n",
       "    .dataframe tbody tr th {\n",
       "        vertical-align: top;\n",
       "    }\n",
       "\n",
       "    .dataframe thead th {\n",
       "        text-align: right;\n",
       "    }\n",
       "</style>\n",
       "<table border=\"1\" class=\"dataframe\">\n",
       "  <thead>\n",
       "    <tr style=\"text-align: right;\">\n",
       "      <th></th>\n",
       "      <th>SepalLength_Cm</th>\n",
       "      <th>SepalWidth_Cm</th>\n",
       "      <th>PetalLength_Cm</th>\n",
       "      <th>PetalWidth_Cm</th>\n",
       "      <th>Species</th>\n",
       "      <th>SepalRatio</th>\n",
       "      <th>PetalArea</th>\n",
       "    </tr>\n",
       "  </thead>\n",
       "  <tbody>\n",
       "    <tr>\n",
       "      <th>45</th>\n",
       "      <td>7.0</td>\n",
       "      <td>3.2</td>\n",
       "      <td>4.7</td>\n",
       "      <td>1.4</td>\n",
       "      <td>Iris-versicolor</td>\n",
       "      <td>2.187500</td>\n",
       "      <td>6.58</td>\n",
       "    </tr>\n",
       "    <tr>\n",
       "      <th>46</th>\n",
       "      <td>6.4</td>\n",
       "      <td>3.2</td>\n",
       "      <td>4.5</td>\n",
       "      <td>1.5</td>\n",
       "      <td>Iris-versicolor</td>\n",
       "      <td>2.000000</td>\n",
       "      <td>6.75</td>\n",
       "    </tr>\n",
       "    <tr>\n",
       "      <th>47</th>\n",
       "      <td>6.9</td>\n",
       "      <td>3.1</td>\n",
       "      <td>4.9</td>\n",
       "      <td>1.5</td>\n",
       "      <td>Iris-versicolor</td>\n",
       "      <td>2.225806</td>\n",
       "      <td>7.35</td>\n",
       "    </tr>\n",
       "    <tr>\n",
       "      <th>48</th>\n",
       "      <td>5.5</td>\n",
       "      <td>2.3</td>\n",
       "      <td>4.0</td>\n",
       "      <td>1.3</td>\n",
       "      <td>Iris-versicolor</td>\n",
       "      <td>2.391304</td>\n",
       "      <td>5.20</td>\n",
       "    </tr>\n",
       "    <tr>\n",
       "      <th>49</th>\n",
       "      <td>6.5</td>\n",
       "      <td>2.8</td>\n",
       "      <td>4.6</td>\n",
       "      <td>1.5</td>\n",
       "      <td>Iris-versicolor</td>\n",
       "      <td>2.321429</td>\n",
       "      <td>6.90</td>\n",
       "    </tr>\n",
       "  </tbody>\n",
       "</table>\n",
       "</div>"
      ],
      "text/plain": [
       "    SepalLength_Cm  SepalWidth_Cm  PetalLength_Cm  PetalWidth_Cm  \\\n",
       "45             7.0            3.2             4.7            1.4   \n",
       "46             6.4            3.2             4.5            1.5   \n",
       "47             6.9            3.1             4.9            1.5   \n",
       "48             5.5            2.3             4.0            1.3   \n",
       "49             6.5            2.8             4.6            1.5   \n",
       "\n",
       "            Species  SepalRatio  PetalArea  \n",
       "45  Iris-versicolor    2.187500       6.58  \n",
       "46  Iris-versicolor    2.000000       6.75  \n",
       "47  Iris-versicolor    2.225806       7.35  \n",
       "48  Iris-versicolor    2.391304       5.20  \n",
       "49  Iris-versicolor    2.321429       6.90  "
      ]
     },
     "execution_count": 10,
     "metadata": {},
     "output_type": "execute_result"
    }
   ],
   "source": [
    "# 篩選出Species為Iris-versicolor的資料存在versicolor_df\n",
    "versicolor_df=iris_df[iris_df['Species']=='Iris-versicolor']\n",
    "versicolor_df.head()"
   ]
  },
  {
   "cell_type": "code",
   "execution_count": 11,
   "metadata": {},
   "outputs": [
    {
     "name": "stdout",
     "output_type": "stream",
     "text": [
      "    SepalLength_Cm  SepalWidth_Cm  PetalLength_Cm  PetalWidth_Cm  \\\n",
      "45             7.0            3.2             4.7            1.4   \n",
      "46             6.4            3.2             4.5            1.5   \n",
      "47             6.9            3.1             4.9            1.5   \n",
      "49             6.5            2.8             4.6            1.5   \n",
      "51             6.3            3.3             4.7            1.6   \n",
      "53             6.6            2.9             4.6            1.3   \n",
      "58             6.1            2.9             4.7            1.4   \n",
      "60             6.7            3.1             4.4            1.4   \n",
      "63             6.2            2.2             4.5            1.5   \n",
      "67             6.3            2.5             4.9            1.5   \n",
      "68             6.1            2.8             4.7            1.2   \n",
      "69             6.4            2.9             4.3            1.3   \n",
      "70             6.6            3.0             4.4            1.4   \n",
      "71             6.8            2.8             4.8            1.4   \n",
      "72             6.7            3.0             5.0            1.7   \n",
      "81             6.7            3.1             4.7            1.5   \n",
      "82             6.3            2.3             4.4            1.3   \n",
      "86             6.1            3.0             4.6            1.4   \n",
      "92             6.2            2.9             4.3            1.3   \n",
      "\n",
      "            Species  SepalRatio  PetalArea  \n",
      "45  Iris-versicolor    2.187500       6.58  \n",
      "46  Iris-versicolor    2.000000       6.75  \n",
      "47  Iris-versicolor    2.225806       7.35  \n",
      "49  Iris-versicolor    2.321429       6.90  \n",
      "51  Iris-versicolor    1.909091       7.52  \n",
      "53  Iris-versicolor    2.275862       5.98  \n",
      "58  Iris-versicolor    2.103448       6.58  \n",
      "60  Iris-versicolor    2.161290       6.16  \n",
      "63  Iris-versicolor    2.818182       6.75  \n",
      "67  Iris-versicolor    2.520000       7.35  \n",
      "68  Iris-versicolor    2.178571       5.64  \n",
      "69  Iris-versicolor    2.206897       5.59  \n",
      "70  Iris-versicolor    2.200000       6.16  \n",
      "71  Iris-versicolor    2.428571       6.72  \n",
      "72  Iris-versicolor    2.233333       8.50  \n",
      "81  Iris-versicolor    2.161290       7.05  \n",
      "82  Iris-versicolor    2.739130       5.72  \n",
      "86  Iris-versicolor    2.033333       6.44  \n",
      "92  Iris-versicolor    2.137931       5.59  \n"
     ]
    }
   ],
   "source": [
    "# 進一步篩選出SepalLength_Cm大於6.0且PetalLength_Cm大於4.0，存在filtered_df中\n",
    "filtered_df=versicolor_df[(versicolor_df['SepalLength_Cm']>6.0) & (versicolor_df['PetalLength_Cm']>4.0)]\n",
    "print(filtered_df)"
   ]
  },
  {
   "cell_type": "code",
   "execution_count": 12,
   "metadata": {},
   "outputs": [
    {
     "name": "stdout",
     "output_type": "stream",
     "text": [
      "19\n"
     ]
    }
   ],
   "source": [
    "# 計算符合的資料數，並存在count中印出\n",
    "count=len(filtered_df)\n",
    "print(count)"
   ]
  },
  {
   "cell_type": "markdown",
   "metadata": {},
   "source": [
    "### 6. 函數"
   ]
  },
  {
   "cell_type": "code",
   "execution_count": 13,
   "metadata": {},
   "outputs": [],
   "source": [
    "def summary_stats(df, col_name):\n",
    "    mean=df[col_name].mean()\n",
    "    median=df[col_name].median()\n",
    "    std=df[col_name].std()\n",
    "    return mean, median, std"
   ]
  },
  {
   "cell_type": "code",
   "execution_count": 14,
   "metadata": {},
   "outputs": [
    {
     "name": "stdout",
     "output_type": "stream",
     "text": [
      "(5.877931034482758, 5.8, 0.8179809972593463)\n"
     ]
    }
   ],
   "source": [
    "sepal_length_summary=summary_stats(iris_df, 'SepalLength_Cm')\n",
    "print(sepal_length_summary)"
   ]
  },
  {
   "cell_type": "markdown",
   "metadata": {},
   "source": [
    "## 題目二 (50%)\n",
    "\n",
    "這是一個關於現代奧運會的歷史資料集，包含從1896年雅典到2016年里約的所有賽事。[資料來源](https://www.kaggle.com/datasets/heesoo37/120-years-of-olympic-history-athletes-and-results)\n",
    "\n",
    "> **請注意**：直到1992年，夏季和冬季運動會是在同一年舉行的。之後它們就分開，冬季運動會在1994年開始，然後夏季運動會在1996年，再然後是冬季運動會在1998年，以此類推。分析這些數據時，人們常犯的一個錯誤是假設夏季和冬季運動會一直都是分開的。\n",
    "\n",
    "### 1. 讀取資料"
   ]
  },
  {
   "cell_type": "code",
   "execution_count": 15,
   "metadata": {},
   "outputs": [
    {
     "data": {
      "text/html": [
       "<div>\n",
       "<style scoped>\n",
       "    .dataframe tbody tr th:only-of-type {\n",
       "        vertical-align: middle;\n",
       "    }\n",
       "\n",
       "    .dataframe tbody tr th {\n",
       "        vertical-align: top;\n",
       "    }\n",
       "\n",
       "    .dataframe thead th {\n",
       "        text-align: right;\n",
       "    }\n",
       "</style>\n",
       "<table border=\"1\" class=\"dataframe\">\n",
       "  <thead>\n",
       "    <tr style=\"text-align: right;\">\n",
       "      <th></th>\n",
       "      <th>ID</th>\n",
       "      <th>Name</th>\n",
       "      <th>Sex</th>\n",
       "      <th>Age</th>\n",
       "      <th>Height</th>\n",
       "      <th>Weight</th>\n",
       "      <th>Team</th>\n",
       "      <th>NOC</th>\n",
       "      <th>Games</th>\n",
       "      <th>Year</th>\n",
       "      <th>Season</th>\n",
       "      <th>City</th>\n",
       "      <th>Sport</th>\n",
       "      <th>Event</th>\n",
       "      <th>Medal</th>\n",
       "    </tr>\n",
       "  </thead>\n",
       "  <tbody>\n",
       "    <tr>\n",
       "      <th>214333</th>\n",
       "      <td>107607</td>\n",
       "      <td>Fritz Richard Gustav Schuft</td>\n",
       "      <td>M</td>\n",
       "      <td>19.0</td>\n",
       "      <td>NaN</td>\n",
       "      <td>NaN</td>\n",
       "      <td>Germany</td>\n",
       "      <td>GER</td>\n",
       "      <td>1896 Summer</td>\n",
       "      <td>1896</td>\n",
       "      <td>Summer</td>\n",
       "      <td>Athina</td>\n",
       "      <td>Gymnastics</td>\n",
       "      <td>Gymnastics Men's Pommelled Horse</td>\n",
       "      <td>NaN</td>\n",
       "    </tr>\n",
       "    <tr>\n",
       "      <th>244717</th>\n",
       "      <td>122526</td>\n",
       "      <td>Pierre Alexandre Tuffri</td>\n",
       "      <td>M</td>\n",
       "      <td>19.0</td>\n",
       "      <td>NaN</td>\n",
       "      <td>NaN</td>\n",
       "      <td>France</td>\n",
       "      <td>FRA</td>\n",
       "      <td>1896 Summer</td>\n",
       "      <td>1896</td>\n",
       "      <td>Summer</td>\n",
       "      <td>Athina</td>\n",
       "      <td>Athletics</td>\n",
       "      <td>Athletics Men's Triple Jump</td>\n",
       "      <td>Silver</td>\n",
       "    </tr>\n",
       "    <tr>\n",
       "      <th>244716</th>\n",
       "      <td>122526</td>\n",
       "      <td>Pierre Alexandre Tuffri</td>\n",
       "      <td>M</td>\n",
       "      <td>19.0</td>\n",
       "      <td>NaN</td>\n",
       "      <td>NaN</td>\n",
       "      <td>France</td>\n",
       "      <td>FRA</td>\n",
       "      <td>1896 Summer</td>\n",
       "      <td>1896</td>\n",
       "      <td>Summer</td>\n",
       "      <td>Athina</td>\n",
       "      <td>Athletics</td>\n",
       "      <td>Athletics Men's Long Jump</td>\n",
       "      <td>NaN</td>\n",
       "    </tr>\n",
       "    <tr>\n",
       "      <th>23912</th>\n",
       "      <td>12563</td>\n",
       "      <td>Conrad Helmut Fritz Bcker</td>\n",
       "      <td>M</td>\n",
       "      <td>25.0</td>\n",
       "      <td>NaN</td>\n",
       "      <td>NaN</td>\n",
       "      <td>Germany</td>\n",
       "      <td>GER</td>\n",
       "      <td>1896 Summer</td>\n",
       "      <td>1896</td>\n",
       "      <td>Summer</td>\n",
       "      <td>Athina</td>\n",
       "      <td>Gymnastics</td>\n",
       "      <td>Gymnastics Men's Horse Vault</td>\n",
       "      <td>NaN</td>\n",
       "    </tr>\n",
       "    <tr>\n",
       "      <th>23913</th>\n",
       "      <td>12563</td>\n",
       "      <td>Conrad Helmut Fritz Bcker</td>\n",
       "      <td>M</td>\n",
       "      <td>25.0</td>\n",
       "      <td>NaN</td>\n",
       "      <td>NaN</td>\n",
       "      <td>Germany</td>\n",
       "      <td>GER</td>\n",
       "      <td>1896 Summer</td>\n",
       "      <td>1896</td>\n",
       "      <td>Summer</td>\n",
       "      <td>Athina</td>\n",
       "      <td>Gymnastics</td>\n",
       "      <td>Gymnastics Men's Parallel Bars</td>\n",
       "      <td>NaN</td>\n",
       "    </tr>\n",
       "  </tbody>\n",
       "</table>\n",
       "</div>"
      ],
      "text/plain": [
       "            ID                         Name Sex   Age  Height  Weight  \\\n",
       "214333  107607  Fritz Richard Gustav Schuft   M  19.0     NaN     NaN   \n",
       "244717  122526      Pierre Alexandre Tuffri   M  19.0     NaN     NaN   \n",
       "244716  122526      Pierre Alexandre Tuffri   M  19.0     NaN     NaN   \n",
       "23912    12563    Conrad Helmut Fritz Bcker   M  25.0     NaN     NaN   \n",
       "23913    12563    Conrad Helmut Fritz Bcker   M  25.0     NaN     NaN   \n",
       "\n",
       "           Team  NOC        Games  Year  Season    City       Sport  \\\n",
       "214333  Germany  GER  1896 Summer  1896  Summer  Athina  Gymnastics   \n",
       "244717   France  FRA  1896 Summer  1896  Summer  Athina   Athletics   \n",
       "244716   France  FRA  1896 Summer  1896  Summer  Athina   Athletics   \n",
       "23912   Germany  GER  1896 Summer  1896  Summer  Athina  Gymnastics   \n",
       "23913   Germany  GER  1896 Summer  1896  Summer  Athina  Gymnastics   \n",
       "\n",
       "                                   Event   Medal  \n",
       "214333  Gymnastics Men's Pommelled Horse     NaN  \n",
       "244717       Athletics Men's Triple Jump  Silver  \n",
       "244716         Athletics Men's Long Jump     NaN  \n",
       "23912       Gymnastics Men's Horse Vault     NaN  \n",
       "23913     Gymnastics Men's Parallel Bars     NaN  "
      ]
     },
     "execution_count": 15,
     "metadata": {},
     "output_type": "execute_result"
    }
   ],
   "source": [
    "# 讀取資料集，將之放在oly_df\n",
    "oly_df=pd.read_csv('./athlete_events.csv', encoding='utf-8')\n",
    "oly_df=oly_df.sort_values(by='Year')\n",
    "oly_df.head()"
   ]
  },
  {
   "cell_type": "markdown",
   "metadata": {},
   "source": [
    "### 2. 夏季與冬季奧運數據"
   ]
  },
  {
   "cell_type": "code",
   "execution_count": 16,
   "metadata": {},
   "outputs": [
    {
     "name": "stdout",
     "output_type": "stream",
     "text": [
      "29\n",
      "22\n"
     ]
    }
   ],
   "source": [
    "# 分成夏季運動會跟冬季運動會的資料集\n",
    "summer_df=oly_df[oly_df['Season']=='Summer']\n",
    "winter_df=oly_df[oly_df['Season']=='Winter']\n",
    "\n",
    "print(summer_df['Year'].nunique())\n",
    "print(winter_df['Year'].nunique())"
   ]
  },
  {
   "cell_type": "markdown",
   "metadata": {},
   "source": [
    "### 3. 參賽國家的運動員人數統計"
   ]
  },
  {
   "cell_type": "code",
   "execution_count": 17,
   "metadata": {},
   "outputs": [
    {
     "name": "stdout",
     "output_type": "stream",
     "text": [
      "Summer\n"
     ]
    },
    {
     "data": {
      "text/plain": [
       "United States    14526\n",
       "Great Britain    10309\n",
       "France           10021\n",
       "Italy             8051\n",
       "Germany           7378\n",
       "Australia         6976\n",
       "Canada            6689\n",
       "Japan             6233\n",
       "Hungary           6089\n",
       "Sweden            5821\n",
       "Name: Team, dtype: int64"
      ]
     },
     "execution_count": 17,
     "metadata": {},
     "output_type": "execute_result"
    }
   ],
   "source": [
    "# 列印Summer字串\n",
    "print(\"Summer\")\n",
    "\n",
    "# 列印summer_df前十名國家的人數\n",
    "count_summer=summer_df['Team'].value_counts()\n",
    "count_summer.head(10)"
   ]
  },
  {
   "cell_type": "code",
   "execution_count": 18,
   "metadata": {},
   "outputs": [
    {
     "name": "stdout",
     "output_type": "stream",
     "text": [
      "Winter\n"
     ]
    },
    {
     "data": {
      "text/plain": [
       "United States    3321\n",
       "Canada           2590\n",
       "Norway           2328\n",
       "Sweden           2231\n",
       "Italy            2209\n",
       "Japan            2056\n",
       "France           1967\n",
       "Austria          1954\n",
       "Germany          1948\n",
       "Switzerland      1911\n",
       "Name: Team, dtype: int64"
      ]
     },
     "execution_count": 18,
     "metadata": {},
     "output_type": "execute_result"
    }
   ],
   "source": [
    "# 列印Winter字串\n",
    "print(\"Winter\")\n",
    "\n",
    "# 列印winter_df前十名國家的人數\n",
    "count_winter=winter_df['Team'].value_counts()\n",
    "count_winter.head(10)"
   ]
  },
  {
   "cell_type": "markdown",
   "metadata": {},
   "source": [
    "### 4. 奧運比賽歷史"
   ]
  },
  {
   "cell_type": "code",
   "execution_count": 19,
   "metadata": {},
   "outputs": [
    {
     "name": "stdout",
     "output_type": "stream",
     "text": [
      "Summer\n",
      "First 1896\n",
      "First summer sports ['Gymnastics' 'Athletics' 'Shooting' 'Tennis' 'Fencing' 'Swimming'\n",
      " 'Cycling' 'Weightlifting' 'Wrestling']\n",
      "Most recent 2016\n",
      "Recent summer sports ['Athletics' 'Basketball' 'Volleyball' 'Gymnastics' 'Swimming'\n",
      " 'Rugby Sevens' 'Sailing' 'Judo' 'Table Tennis' 'Diving' 'Taekwondo'\n",
      " 'Equestrianism' 'Shooting' 'Modern Pentathlon' 'Cycling' 'Handball'\n",
      " 'Hockey' 'Football' 'Fencing' 'Synchronized Swimming' 'Triathlon'\n",
      " 'Weightlifting' 'Boxing' 'Rowing' 'Wrestling' 'Tennis' 'Canoeing' 'Golf'\n",
      " 'Rhythmic Gymnastics' 'Badminton' 'Beach Volleyball' 'Trampolining'\n",
      " 'Archery' 'Water Polo']\n"
     ]
    }
   ],
   "source": [
    "# 列印Summer字串\n",
    "print(\"Summer\")\n",
    "\n",
    "# 列印First字串和第一次舉辦夏季奧運會的年份\n",
    "first_year=summer_df['Year'].min()\n",
    "print(\"First\", first_year)\n",
    "\n",
    "# 列印First summer sports字串和第一次舉辦夏季奧運會的比賽項目\n",
    "first_year_df=summer_df[summer_df['Year']==first_year]\n",
    "print(\"First summer sports\", first_year_df['Sport'].unique())\n",
    "\n",
    "# 列印Most recent字串和最近一次舉辦夏季奧運會的年份\n",
    "recent_year=summer_df['Year'].max()\n",
    "print(\"Most recent\", recent_year)\n",
    "\n",
    "# 列印Recent summer sports最近一次舉辦夏季奧運會的比賽項目\n",
    "recent_year_df=summer_df[summer_df['Year']==recent_year]\n",
    "print(\"Recent summer sports\", recent_year_df['Sport'].unique())"
   ]
  },
  {
   "cell_type": "code",
   "execution_count": 20,
   "metadata": {},
   "outputs": [
    {
     "name": "stdout",
     "output_type": "stream",
     "text": [
      "Winter\n",
      "First 1924\n",
      "First winter sports ['Cross Country Skiing' 'Nordic Combined' 'Ice Hockey' 'Alpinism'\n",
      " 'Bobsleigh' 'Military Ski Patrol' 'Ski Jumping' 'Curling' 'Speed Skating'\n",
      " 'Figure Skating']\n",
      "Most recent 2014\n",
      "Recent winter sports ['Biathlon' 'Short Track Speed Skating' 'Figure Skating'\n",
      " 'Cross Country Skiing' 'Alpine Skiing' 'Bobsleigh' 'Ski Jumping'\n",
      " 'Freestyle Skiing' 'Luge' 'Ice Hockey' 'Speed Skating' 'Curling'\n",
      " 'Snowboarding' 'Nordic Combined' 'Skeleton']\n"
     ]
    }
   ],
   "source": [
    "# 列印Winter字串\n",
    "print(\"Winter\")\n",
    "\n",
    "# 列印First字串和第一次舉辦冬季奧運會的年份\n",
    "first_year=winter_df['Year'].min()\n",
    "print(\"First\", first_year)\n",
    "\n",
    "# 列印First winter sports字串和第一次舉辦冬季奧運會的比賽項目\n",
    "first_year_df=winter_df[winter_df['Year']==first_year]\n",
    "print(\"First winter sports\", first_year_df['Sport'].unique())\n",
    "\n",
    "# 列印Most recent字串和最近一次舉辦冬季奧運會的年份\n",
    "recent_year=winter_df['Year'].max()\n",
    "print(\"Most recent\", recent_year)\n",
    "\n",
    "# 列印Recent winter sports最近一次舉辦冬季奧運會的比賽項目\n",
    "recent_year_df=winter_df[winter_df['Year']==recent_year]\n",
    "print(\"Recent winter sports\", recent_year_df['Sport'].unique())"
   ]
  },
  {
   "cell_type": "markdown",
   "metadata": {},
   "source": [
    "## 加分題 (20%)\n",
    "\n",
    "承題目二，以下會針對奧運資料集進行時間序列的分析並視覺化。\n",
    "\n",
    "### 1. 建立分組物件"
   ]
  },
  {
   "cell_type": "code",
   "execution_count": 21,
   "metadata": {},
   "outputs": [],
   "source": [
    "summer_by_year=summer_df.groupby(by='Year')\n",
    "winter_by_year=winter_df.groupby(by='Year')"
   ]
  },
  {
   "cell_type": "markdown",
   "metadata": {},
   "source": [
    "### 2. 奧運參賽者性別分布"
   ]
  },
  {
   "cell_type": "code",
   "execution_count": 22,
   "metadata": {},
   "outputs": [
    {
     "data": {
      "text/plain": [
       "<AxesSubplot:title={'center':'Summer'}, xlabel='Year', ylabel='No. of People'>"
      ]
     },
     "execution_count": 22,
     "metadata": {},
     "output_type": "execute_result"
    },
    {
     "data": {
      "image/png": "[encoded data removed]",
      "text/plain": [
       "<Figure size 1080x360 with 1 Axes>"
      ]
     },
     "metadata": {
      "needs_background": "light"
     },
     "output_type": "display_data"
    }
   ],
   "source": [
    "summer_by_year['Sex'].value_counts().unstack().plot.bar(stacked=True, figsize=(15,5), title='Summer', ylabel='No. of People')"
   ]
  },
  {
   "cell_type": "code",
   "execution_count": 23,
   "metadata": {},
   "outputs": [
    {
     "data": {
      "text/plain": [
       "<AxesSubplot:title={'center':'Winter'}, xlabel='Year', ylabel='No. of People'>"
      ]
     },
     "execution_count": 23,
     "metadata": {},
     "output_type": "execute_result"
    },
    {
     "data": {
      "image/png": "[encoded data removed]",
      "text/plain": [
       "<Figure size 1080x360 with 1 Axes>"
      ]
     },
     "metadata": {
      "needs_background": "light"
     },
     "output_type": "display_data"
    }
   ],
   "source": [
    "winter_by_year['Sex'].value_counts().unstack().plot.bar(stacked=True, figsize=(15,5), title='Winter', ylabel='No. of People')"
   ]
  },
  {
   "cell_type": "markdown",
   "metadata": {},
   "source": [
    "### 奧運參賽者運動項目分佈"
   ]
  },
  {
   "cell_type": "code",
   "execution_count": 65,
   "metadata": {},
   "outputs": [
    {
     "data": {
      "text/plain": [
       "<AxesSubplot:title={'center':'Summer'}, xlabel='Year', ylabel='No. of People Participated in Sport'>"
      ]
     },
     "execution_count": 65,
     "metadata": {},
     "output_type": "execute_result"
    },
    {
     "data": {
      "image/png": "[encoded data removed]",
      "text/plain": [
       "<Figure size 1080x360 with 1 Axes>"
      ]
     },
     "metadata": {
      "needs_background": "light"
     },
     "output_type": "display_data"
    }
   ],
   "source": [
    "summer_by_year['Sport'].value_counts().groupby(level=0, group_keys=False).nlargest(3).unstack().plot.bar(stacked=True, figsize=(15,5), title='Summer', ylabel='No. of People Participated in Sport')"
   ]
  },
  {
   "cell_type": "code",
   "execution_count": 66,
   "metadata": {},
   "outputs": [
    {
     "data": {
      "text/plain": [
       "<AxesSubplot:title={'center':'Winter'}, xlabel='Year', ylabel='No. of People Participated in Sport'>"
      ]
     },
     "execution_count": 66,
     "metadata": {},
     "output_type": "execute_result"
    },
    {
     "data": {
      "image/png": "[encoded data removed]",
      "text/plain": [
       "<Figure size 1080x360 with 1 Axes>"
      ]
     },
     "metadata": {
      "needs_background": "light"
     },
     "output_type": "display_data"
    }
   ],
   "source": [
    "winter_by_year['Sport'].value_counts().groupby(level=0, group_keys=False).nlargest(3).unstack().plot.bar(stacked=True, figsize=(15,5), title='Winter', ylabel='No. of People Participated in Sport')"
   ]
  },
  {
   "cell_type": "code",
   "execution_count": null,
   "metadata": {},
   "outputs": [],
   "source": []
  }
 ],
 "metadata": {
  "kernelspec": {
   "display_name": "Python 3",
   "language": "python",
   "name": "python3"
  },
  "language_info": {
   "codemirror_mode": {
    "name": "ipython",
    "version": 3
   },
   "file_extension": ".py",
   "mimetype": "text/x-python",
   "name": "python",
   "nbconvert_exporter": "python",
   "pygments_lexer": "ipython3",
   "version": "3.10.12"
  }
 },
 "nbformat": 4,
 "nbformat_minor": 2
}

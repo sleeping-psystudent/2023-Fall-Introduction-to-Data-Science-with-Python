{
 "cells": [
  {
   "cell_type": "markdown",
   "metadata": {},
   "source": [
    "# 作業三\n",
    "\n",
    "## 題目一（30%）"
   ]
  },
  {
   "cell_type": "code",
   "execution_count": 3,
   "metadata": {},
   "outputs": [
    {
     "name": "stdout",
     "output_type": "stream",
     "text": [
      "Richard: [60, 0, 45, -1]\n",
      "highest 60 \n",
      "lowest: -1 \n",
      "averge: 26.0\n",
      "評論：加油\n",
      "====\n",
      "Una: [100, 99, 101, 100]\n",
      "highest 101 \n",
      "lowest: 99 \n",
      "averge: 100.0\n",
      "評論：滿分\n",
      "====\n",
      "Linda: [99, 100, 99, 100]\n",
      "highest 100 \n",
      "lowest: 99 \n",
      "averge: 99.5\n",
      "評論：優等\n",
      "====\n",
      "Shu-Kai: [1000, 1000, 1000, 1000]\n",
      "highest 1000 \n",
      "lowest: 1000 \n",
      "averge: 1000.0\n",
      "評論：你的成績有問題\n",
      "====\n"
     ]
    }
   ],
   "source": [
    "# 1（作業提供）\n",
    "grades = {\n",
    "    \"Richard\": [60, 0, 45, -1],\n",
    "    \"Una\": [100, 99, 101, 100],\n",
    "    \"Linda\": [99, 100, 99, 100],\n",
    "    \"Shu-Kai\": [1000, 1000, 1000, 1000]\n",
    "}\n",
    "\n",
    "# 2\n",
    "for name,scores in grades.items():\n",
    "    # 3\n",
    "    lowest=min(scores)\n",
    "    highest=max(scores)\n",
    "    averge=sum(scores)/len(scores)\n",
    "    print(name+\":\",scores)\n",
    "    print(\"highest\", highest, \"\\nlowest:\", lowest, \"\\naverge:\", averge)\n",
    "    \n",
    "    #4\n",
    "    print(\"評論：\", end='')\n",
    "    if averge>100: print(\"你的成績有問題\")\n",
    "    elif averge==100: print(\"滿分\")\n",
    "    elif averge>=90: print(\"優等\")\n",
    "    elif averge>=60: print(\"及格\")\n",
    "    else: print(\"加油\")\n",
    "\n",
    "    # 5\n",
    "    print('====')"
   ]
  },
  {
   "cell_type": "markdown",
   "metadata": {},
   "source": [
    "## 題目二（30%）"
   ]
  },
  {
   "cell_type": "code",
   "execution_count": 1,
   "metadata": {},
   "outputs": [
    {
     "name": "stdout",
     "output_type": "stream",
     "text": [
      "TA Lounge: ['Richard', 'Amy', 'Una', 'Joanne']\n",
      "Secret Lounge: ['Shu-Kai']\n"
     ]
    }
   ],
   "source": [
    "# 1（作業提供）\n",
    "ta_list = [\"Richard\", \"Una\", \"Linda\", \"Amy\", \"Joanne\", \"Mia\", \"Irene\", \"Amber\"]\n",
    "vip_list = [\"Shu-Kai\"]\n",
    "people = [\"Bob\", \"Alice\", \"Richard\", \"Bruce\", \"Shu-Kai\", \"Amy\", \"Una\", \"Eva\", \"Edward\", \"Joanne\", \"Linda\", \"Mia\", \"Irene\", \"Amber\"]\n",
    "\n",
    "# 2\n",
    "ta_lounge=[]\n",
    "secret_lounge=[]\n",
    "max_people=4\n",
    "\n",
    "# 3\n",
    "for person in people:\n",
    "    if person in ta_list: ta_lounge.append(person)\n",
    "    if person in vip_list: secret_lounge.append(person)\n",
    "    if len(ta_lounge)==max_people: break\n",
    "\n",
    "# 4\n",
    "print(\"TA Lounge:\", ta_lounge)\n",
    "print(\"Secret Lounge:\", secret_lounge)"
   ]
  },
  {
   "cell_type": "markdown",
   "metadata": {},
   "source": [
    "## 題目三（40%）"
   ]
  },
  {
   "cell_type": "code",
   "execution_count": 6,
   "metadata": {},
   "outputs": [
    {
     "name": "stdout",
     "output_type": "stream",
     "text": [
      "TA Lounge: ['Amy', 'Una', 'Joanne', 'Linda']\n",
      "Secret Lounge: []\n"
     ]
    }
   ],
   "source": [
    "# 1（作業提供）\n",
    "ta_list = [\"Richard\", \"Una\", \"Linda\", \"Amy\", \"Joanne\", \"Mia\", \"Irene\", \"Amber\"]\n",
    "vip_list = [\"Shu-Kai\"]\n",
    "people = [\"Bob\", \"Alice\", \"Richard\", \"Bruce\", \"Amy\", \"Una\", \"Eva\", \"Edward\", \"Joanne\", \"Linda\", \"Shu-Kai\", \"Mia\", \"Irene\", \"Amber\"]\n",
    "\n",
    "# 2\n",
    "ta_lounge=[]\n",
    "secret_lounge=[]\n",
    "max_people=4\n",
    "idx=0\n",
    "\n",
    "# 3\n",
    "while idx<len(people) :\n",
    "    if people[idx] not in (ta_list or vip_list):\n",
    "        idx+=1\n",
    "        continue\n",
    "    if len(people[idx])>6:\n",
    "        idx+=1\n",
    "        continue\n",
    "    if len(ta_lounge)<max_people: ta_lounge.append(people[idx])\n",
    "    if people[idx] in vip_list: secret_lounge.append(people[idx])\n",
    "    idx+=1\n",
    "\n",
    "# 4\n",
    "print(\"TA Lounge:\", ta_lounge)\n",
    "print(\"Secret Lounge:\", secret_lounge)"
   ]
  },
  {
   "cell_type": "markdown",
   "metadata": {},
   "source": [
    "## 加分題（10%）"
   ]
  },
  {
   "cell_type": "code",
   "execution_count": 1,
   "metadata": {},
   "outputs": [
    {
     "name": "stdout",
     "output_type": "stream",
     "text": [
      "TA Lounge: ['Richard', 'Amy', 'Una', 'Joanne']\n",
      "Secret Lounge: ['Shu-Kai', 'Ing-Wen Tsai', 'Wen-Chang Chen']\n"
     ]
    }
   ],
   "source": [
    "ta_list = [\"Richard\", \"Una\", \"Linda\", \"Amy\", \"Joanne\", \"Mia\", \"Irene\", \"Amber\"]\n",
    "vip_list = [\"Shu-Kai\", \"Wen-Chang Chen\", \"Ing-Wen Tsai\"]\n",
    "people = [\"Bob\", \"Alice\", \"Richard\", \"Bruce\", \"Shu-Kai\", \"Amy\", \"Ing-Wen Tsai\", \"Una\", \"Eva\", \"Edward\", \"Joanne\", \"Linda\", \"Mia\", \"Irene\", \"Amber\", \"Wen-Chang Chen\"]\n",
    "\n",
    "# 2\n",
    "ta_lounge=[]\n",
    "secret_lounge=[]\n",
    "max_people=4\n",
    "\n",
    "# 3\n",
    "for person in people:\n",
    "    if len(ta_lounge)!=max_people:\n",
    "        if person in ta_list: ta_lounge.append(person)\n",
    "    if person in vip_list: secret_lounge.append(person)\n",
    "\n",
    "# 4\n",
    "print(\"TA Lounge:\", ta_lounge)\n",
    "print(\"Secret Lounge:\", secret_lounge)"
   ]
  }
 ],
 "metadata": {
  "kernelspec": {
   "display_name": "Python 3",
   "language": "python",
   "name": "python3"
  },
  "language_info": {
   "codemirror_mode": {
    "name": "ipython",
    "version": 3
   },
   "file_extension": ".py",
   "mimetype": "text/x-python",
   "name": "python",
   "nbconvert_exporter": "python",
   "pygments_lexer": "ipython3",
   "version": "3.10.12"
  },
  "orig_nbformat": 4
 },
 "nbformat": 4,
 "nbformat_minor": 2
}
